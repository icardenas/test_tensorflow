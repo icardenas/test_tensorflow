{
  "nbformat": 4,
  "nbformat_minor": 0,
  "metadata": {
    "colab": {
      "name": "TensorFlow Parse Temperature.ipynb",
      "provenance": [],
      "authorship_tag": "ABX9TyP7D9GZnWAvOXaCCBUKk/wI",
      "include_colab_link": true
    },
    "kernelspec": {
      "name": "python3",
      "display_name": "Python 3"
    },
    "language_info": {
      "name": "python"
    }
  },
  "cells": [
    {
      "cell_type": "markdown",
      "metadata": {
        "id": "view-in-github",
        "colab_type": "text"
      },
      "source": [
        "<a href=\"https://colab.research.google.com/github/icardenas/test_tensorflow/blob/main/TensorFlow_Parse_Temperature.ipynb\" target=\"_parent\"><img src=\"https://colab.research.google.com/assets/colab-badge.svg\" alt=\"Open In Colab\"/></a>"
      ]
    },
    {
      "cell_type": "code",
      "metadata": {
        "id": "Rv9Tual3Gn7U"
      },
      "source": [
        "import tensorflow as tf\n",
        "import numpy as np"
      ],
      "execution_count": 1,
      "outputs": []
    },
    {
      "cell_type": "code",
      "metadata": {
        "id": "NYLkGtruHYSN"
      },
      "source": [
        "celsius = np.array([-40,-10,0,8,15,22,38], dtype=float)\n",
        "farenheit = np.array([-40, 14, 32, 46.4, 59, 71.6, 100.4], dtype=float)"
      ],
      "execution_count": 12,
      "outputs": []
    },
    {
      "cell_type": "code",
      "metadata": {
        "id": "syvqqxq2H3mN"
      },
      "source": [
        "capa = tf.keras.layers.Dense(units=1, input_shape=[1])\n",
        "modelo = tf.keras.Sequential([capa])\n"
      ],
      "execution_count": 13,
      "outputs": []
    },
    {
      "cell_type": "code",
      "metadata": {
        "id": "TQun_phXIM2u"
      },
      "source": [
        "modelo.compile(optimizer=tf.keras.optimizers.Adam(0.1),\n",
        "               loss='mean_squared_error')\n"
      ],
      "execution_count": 14,
      "outputs": []
    },
    {
      "cell_type": "code",
      "metadata": {
        "colab": {
          "base_uri": "https://localhost:8080/"
        },
        "id": "nYXkFbKQIibN",
        "outputId": "f03fb0b8-6dc7-482e-9278-c517ad6218c9"
      },
      "source": [
        "print(\"comenzar\")\n",
        "historial = modelo.fit(celsius, farenheit, epochs=1000, verbose=False)\n",
        "print(\"modelo entrenado\")"
      ],
      "execution_count": 15,
      "outputs": [
        {
          "output_type": "stream",
          "name": "stdout",
          "text": [
            "comenzar\n",
            "modelo entrenado\n"
          ]
        }
      ]
    },
    {
      "cell_type": "code",
      "metadata": {
        "colab": {
          "base_uri": "https://localhost:8080/",
          "height": 296
        },
        "id": "GPkfkBSFIu-f",
        "outputId": "26f08477-a23c-4687-853e-c1c2bedec38a"
      },
      "source": [
        "import matplotlib.pyplot as plt\n",
        "plt.xlabel(\"# epoca\")\n",
        "plt.ylabel(\"# maginitud de perdida\")\n",
        "plt.plot(historial.history['loss'])"
      ],
      "execution_count": 18,
      "outputs": [
        {
          "output_type": "execute_result",
          "data": {
            "text/plain": [
              "[<matplotlib.lines.Line2D at 0x7f26711fd750>]"
            ]
          },
          "metadata": {},
          "execution_count": 18
        },
        {
          "output_type": "display_data",
          "data": {
            "image/png": "[encoded data removed]",
            "text/plain": [
              "<Figure size 432x288 with 1 Axes>"
            ]
          },
          "metadata": {
            "needs_background": "light"
          }
        }
      ]
    },
    {
      "cell_type": "code",
      "metadata": {
        "colab": {
          "base_uri": "https://localhost:8080/"
        },
        "id": "GyipHAHFJMCn",
        "outputId": "ef6aab0a-a062-4270-dbfd-af68d4226cc1"
      },
      "source": [
        "print(\"Prediccion: \", end=\" \")\n",
        "resultado = modelo.predict([100, 99])\n",
        "print(resultado)"
      ],
      "execution_count": 17,
      "outputs": [
        {
          "output_type": "stream",
          "name": "stdout",
          "text": [
            "Prediccion:  [[211.9927 ]\n",
            " [210.19223]]\n"
          ]
        }
      ]
    }
  ]
}